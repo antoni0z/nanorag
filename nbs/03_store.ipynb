{
 "cells": [
  {
   "cell_type": "markdown",
   "id": "6102c907-3669-4272-9629-9bd172bf08eb",
   "metadata": {},
   "source": [
    "# Store\n",
    "\n",
    "> Provides storage for documents"
   ]
  },
  {
   "cell_type": "code",
   "execution_count": null,
   "id": "97efea1c-7f06-4dce-97db-4861dbae1c20",
   "metadata": {},
   "outputs": [],
   "source": [
    "#| default_exp store"
   ]
  },
  {
   "cell_type": "code",
   "execution_count": null,
   "id": "6bdcc0a7-d360-41d3-8687-3312cd1c2638",
   "metadata": {},
   "outputs": [],
   "source": [
    "#| export\n",
    "from nanorag.base import Document, abstractmethod, ABC\n",
    "from typing import Union, List, Dict, Optional\n",
    "from uuid import UUID"
   ]
  },
  {
   "cell_type": "code",
   "execution_count": null,
   "id": "237fdf61-9e4c-49f9-aeae-4ba3d78ea0a1",
   "metadata": {},
   "outputs": [],
   "source": [
    "#| export\n",
    "class BaseDocumentStore(ABC):\n",
    "    \"\"\"\n",
    "    Base class for document storage\"\"\"\n",
    "    def __init__(self, documents : Dict[str, Document] = {}):\n",
    "        pass\n",
    "    @abstractmethod\n",
    "    def __call__(self, db): #Connect to backend and specific collection parameters\n",
    "        pass\n",
    "    @abstractmethod    \n",
    "    def add(self, document: Document):\n",
    "        pass\n",
    "    @abstractmethod \n",
    "    def ids(self):\n",
    "        pass\n",
    "    @abstractmethod    \n",
    "    def delete(self, ids: Union[List, str]):\n",
    "        pass\n",
    "    @abstractmethod\n",
    "    def get(self, ids: Union[UUID, List]):\n",
    "        pass\n",
    "        "
   ]
  },
  {
   "cell_type": "code",
   "execution_count": null,
   "id": "e17538f0-ad16-43fc-9686-55824ce404a8",
   "metadata": {},
   "outputs": [],
   "source": [
    "#| export\n",
    "class DocumentStore(BaseDocumentStore):\n",
    "    \"\"\"Key value type document store that store documents by their id in a dictionary.\n",
    "    Also checks for duplicates via hashing and doesn't admit them. Compatible with both nodes and documents.\"\"\"\n",
    "    def __init__(self, documents : Union[List[Document], Document]= []):\n",
    "        if isinstance(documents, list):\n",
    "            self.documents = {document.id: document for document in documents}\n",
    "        elif isinstance(documents, Document):\n",
    "            self.documents = {documents.id: documents}\n",
    "\n",
    "    def __call__(self, db): #Connect to backend and specific collection parameters\n",
    "        pass\n",
    "        \n",
    "    def add(self, document: Union[List[Document], Document]) -> str:\n",
    "        doc_ids = []\n",
    "        if isinstance(document, list):\n",
    "            for doc in document:\n",
    "                self.add(doc)\n",
    "                doc_ids.append(doc.id)\n",
    "        else:\n",
    "            for stored_document in self.documents:\n",
    "                if self.documents[stored_document].hash == document.hash:\n",
    "                    return f\"You tried to add a duplicate document: {document.hash}\"\n",
    "                elif self.documents[stored_document].id == document.id:\n",
    "                    self.documents[document.id] = document\n",
    "                    return f\"Document with id {document.id} has been updated\"\n",
    "            self.documents[document.id] =  document\n",
    "        return f\"The following documents have been added: {doc_ids}\"\n",
    "\n",
    "    def ids(self):\n",
    "        doc_ids = [doc for doc in self.documents]\n",
    "        return doc_ids\n",
    "\n",
    "    def delete(self, ids: Union[List, str]):\n",
    "        deleted_docs = []\n",
    "        if isinstance(ids, List):\n",
    "            for id in ids:\n",
    "                deleted_doc = self.documents.pop(id, None)\n",
    "                if deleted_doc != None:\n",
    "                    deleted_docs.append(deleted_doc)\n",
    "        elif isinstance(ids, UUID):\n",
    "            deleted_doc = self.documents.pop(ids, None)\n",
    "            print(f'Ids are: {ids} and theoretically deleted doc is {deleted_doc}')\n",
    "            if deleted_doc != None:\n",
    "                deleted_docs.append(deleted_doc)\n",
    "        return f\"The following docs have been deleted {deleted_docs}\"\n",
    "        \n",
    "    def get(self, ids: Optional[Union[List[UUID], UUID]] = None) -> Optional[Union[Document, List[Document]]]:\n",
    "        if ids == None:\n",
    "            ids = self.ids()\n",
    "            if isinstance(ids, List):\n",
    "                if len(ids) == 0:\n",
    "                    return None\n",
    "        if isinstance(ids, List):\n",
    "            docs = [self.documents[id] for id in ids if id in self.documents]\n",
    "            if len(docs) == 0:\n",
    "                return None\n",
    "            return docs\n",
    "        elif isinstance(ids, UUID):\n",
    "            doc = self.documents.get(ids, None)\n",
    "            if doc is None:\n",
    "                return None\n",
    "            return doc\n",
    "        return None\n",
    "#NOTE: Could I store both nodes and docs in same store? "
   ]
  },
  {
   "cell_type": "code",
   "execution_count": null,
   "id": "30a3ed18-b244-4d1f-a6a0-a24a03c01521",
   "metadata": {},
   "outputs": [],
   "source": [
    "#| hide\n",
    "import nbdev; nbdev.nbdev_export()"
   ]
  }
 ],
 "metadata": {
  "kernelspec": {
   "display_name": "python3",
   "language": "python",
   "name": "python3"
  }
 },
 "nbformat": 4,
 "nbformat_minor": 5
}
