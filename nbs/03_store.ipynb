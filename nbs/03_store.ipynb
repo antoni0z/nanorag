{
 "cells": [
  {
   "cell_type": "markdown",
   "id": "6102c907-3669-4272-9629-9bd172bf08eb",
   "metadata": {},
   "source": [
    "# Store\n",
    "\n",
    "> Provides storage for documents"
   ]
  },
  {
   "cell_type": "code",
   "execution_count": null,
   "id": "97efea1c-7f06-4dce-97db-4861dbae1c20",
   "metadata": {},
   "outputs": [],
   "source": [
    "#| default_exp store"
   ]
  },
  {
   "cell_type": "code",
   "execution_count": null,
   "id": "6bdcc0a7-d360-41d3-8687-3312cd1c2638",
   "metadata": {},
   "outputs": [],
   "source": [
    "#| export\n",
    "from nanorag.base import Document, abstractmethod, ABC\n",
    "from nanorag.context import ModelContext\n",
    "from nanorag.loaders import PDFLoader\n",
    "from typing import Union, List, Dict, Optional\n",
    "from uuid import UUID\n",
    "from collections import defaultdict"
   ]
  },
  {
   "cell_type": "code",
   "execution_count": null,
   "id": "237fdf61-9e4c-49f9-aeae-4ba3d78ea0a1",
   "metadata": {},
   "outputs": [],
   "source": [
    "#| export\n",
    "class BaseDocumentStore(ABC):\n",
    "    \"\"\"\n",
    "    Base class for document storage\"\"\"\n",
    "    def __init__(self, documents : Dict[str, Document] = {}):\n",
    "        pass\n",
    "    @abstractmethod\n",
    "    def __call__(self, db): #Connect to backend and specific collection parameters\n",
    "        pass\n",
    "    @abstractmethod    \n",
    "    def add(self, document: Document):\n",
    "        pass\n",
    "    @abstractmethod \n",
    "    def ids(self):\n",
    "        pass\n",
    "    @abstractmethod    \n",
    "    def delete(self, ids: Union[List, str]):\n",
    "        pass\n",
    "    @abstractmethod\n",
    "    def get(self, ids: Union[UUID, List]):\n",
    "        pass\n",
    "        "
   ]
  },
  {
   "cell_type": "code",
   "execution_count": null,
   "id": "e17538f0-ad16-43fc-9686-55824ce404a8",
   "metadata": {},
   "outputs": [],
   "source": [
    "#| export\n",
    "class DocumentStore(BaseDocumentStore):\n",
    "    \"\"\"Key value type document store that store documents by their id in a dictionary.\n",
    "    Also checks for duplicates via hashing and doesn't admit them. Compatible with both nodes and documents.\"\"\"\n",
    "    def __init__(self, documents : Union[List[Document], Document]= []):\n",
    "        if isinstance(documents, list):\n",
    "            self.documents = {document.id: document for document in documents}\n",
    "        elif isinstance(documents, Document):\n",
    "            self.documents = {documents.id: documents}\n",
    "\n",
    "    def __call__(self, db): #Connect to backend and specific collection parameters\n",
    "        pass\n",
    "        \n",
    "    def add(self, document: Union[List[Document], Document]) -> str:\n",
    "        doc_ids = []\n",
    "        if isinstance(document, list):\n",
    "            for doc in document:\n",
    "                self.add(doc)\n",
    "                doc_ids.append(doc.id)\n",
    "        else:\n",
    "            for stored_document in self.documents:\n",
    "                if self.documents[stored_document].hash == document.hash:\n",
    "                    return f\"You tried to add a duplicate document: {document.hash}\"\n",
    "                elif self.documents[stored_document].id == document.id:\n",
    "                    self.documents[document.id] = document\n",
    "                    return f\"Document with id {document.id} has been updated\"\n",
    "            self.documents[document.id] =  document\n",
    "        return f\"The following documents have been added: {doc_ids}\"\n",
    "\n",
    "    def ids(self):\n",
    "        doc_ids = [doc for doc in self.documents]\n",
    "        return doc_ids\n",
    "\n",
    "    def delete(self, ids: Union[List, str]):\n",
    "        deleted_docs = []\n",
    "        if isinstance(ids, List):\n",
    "            for id in ids:\n",
    "                deleted_doc = self.documents.pop(id, None)\n",
    "                if deleted_doc != None:\n",
    "                    deleted_docs.append(deleted_doc)\n",
    "        elif isinstance(ids, UUID):\n",
    "            deleted_doc = self.documents.pop(ids, None)\n",
    "            print(f'Ids are: {ids} and theoretically deleted doc is {deleted_doc}')\n",
    "            if deleted_doc != None:\n",
    "                deleted_docs.append(deleted_doc)\n",
    "        return f\"The following docs have been deleted {deleted_docs}\"\n",
    "        \n",
    "    def get(self, ids: Optional[Union[List[UUID], UUID]] = None) -> Optional[Union[Document, List[Document]]]:\n",
    "        if ids == None:\n",
    "            ids = self.ids()\n",
    "            if isinstance(ids, List):\n",
    "                if len(ids) == 0:\n",
    "                    return None\n",
    "        if isinstance(ids, List):\n",
    "            docs = [self.documents[id] for id in ids if id in self.documents]\n",
    "            if len(docs) == 0:\n",
    "                return None\n",
    "            return docs\n",
    "        elif isinstance(ids, UUID):\n",
    "            doc = self.documents.get(ids, None)\n",
    "            if doc is None:\n",
    "                return None\n",
    "            return doc\n",
    "        return None\n",
    "    def group_by_source_id(self, source_id = None): #Other type of filters can be added\n",
    "        grouped_documents = defaultdict(list)\n",
    "        for doc in self.documents.values():\n",
    "            if source_id == None:\n",
    "                grouped_documents[doc.source_id].append(doc)\n",
    "            elif doc.source_id not in grouped_documents or doc.source_id == source_id:\n",
    "                grouped_documents[doc.source_id].append(doc)\n",
    "        if source_id != None:\n",
    "            return grouped_documents[source_id]\n",
    "        return dict(grouped_documents)\n",
    "#NOTE: Could I store both nodes and docs in same store? "
   ]
  },
  {
   "cell_type": "code",
   "execution_count": null,
   "id": "2f579136",
   "metadata": {},
   "outputs": [],
   "source": [
    "class PostgresDocumentStore(BaseDocumentStore):\n",
    "    pass"
   ]
  },
  {
   "cell_type": "code",
   "execution_count": null,
   "id": "30a3ed18-b244-4d1f-a6a0-a24a03c01521",
   "metadata": {},
   "outputs": [],
   "source": [
    "#| hide\n",
    "import nbdev; nbdev.nbdev_export()"
   ]
  },
  {
   "cell_type": "markdown",
   "id": "af49de6d",
   "metadata": {},
   "source": [
    "Example insert into DocStore"
   ]
  },
  {
   "cell_type": "code",
   "execution_count": null,
   "id": "ebffaddb",
   "metadata": {},
   "outputs": [],
   "source": [
    "#| hide\n",
    "#| eval: false\n",
    "loader = PDFLoader('datasets/papers_pdf')\n",
    "documents = loader.get_documents()\n",
    "store = DocumentStore(documents)"
   ]
  },
  {
   "cell_type": "code",
   "execution_count": null,
   "id": "153b5e85",
   "metadata": {},
   "outputs": [
    {
     "data": {
      "text/plain": [
       "[Document(id = 053657da-a25f-469e-9a34-cd9cd57a43e2, name = EfﬁcientNet: Rethinking Model Scaling for Convolutional Neural Networks, metadata = {'page': 1, '/Author': 'Mingxing Tan, Quoc V. Le', '/CreationDate': 'D:20200914001802Z', '/Creator': 'LaTeX with hyperref package', '/Keywords': 'Machine Learning, ICML', '/ModDate': 'D:20200914001802Z', '/PTEX.Fullbanner': 'This is pdfTeX, Version 3.14159265-2.6-1.40.17 (TeX Live 2016) kpathsea version 6.2.2', '/Producer': 'pdfTeX-1.40.17', '/Subject': 'Proceedings of the International Conference on Machine Learning 2019', '/Title': 'EfficientNet: Rethinking Model Scaling for Convolutional Neural Networks', '/Trapped': '/False'}, source_id = f5973cb0-5023-463f-8f4a-e39c32760227),\n",
       " Document(id = 9872d5e1-94c1-41da-bc8b-f239bcfd5967, name = EfﬁcientNet: Rethinking Model Scaling for Convolutional Neural Networks, metadata = {'page': 2, '/Author': 'Mingxing Tan, Quoc V. Le', '/CreationDate': 'D:20200914001802Z', '/Creator': 'LaTeX with hyperref package', '/Keywords': 'Machine Learning, ICML', '/ModDate': 'D:20200914001802Z', '/PTEX.Fullbanner': 'This is pdfTeX, Version 3.14159265-2.6-1.40.17 (TeX Live 2016) kpathsea version 6.2.2', '/Producer': 'pdfTeX-1.40.17', '/Subject': 'Proceedings of the International Conference on Machine Learning 2019', '/Title': 'EfficientNet: Rethinking Model Scaling for Convolutional Neural Networks', '/Trapped': '/False'}, source_id = f5973cb0-5023-463f-8f4a-e39c32760227),\n",
       " Document(id = e0ba8def-f909-4780-a853-7860651e9d2e, name = EfﬁcientNet: Rethinking Model Scaling for Convolutional Neural Networks, metadata = {'page': 3, '/Author': 'Mingxing Tan, Quoc V. Le', '/CreationDate': 'D:20200914001802Z', '/Creator': 'LaTeX with hyperref package', '/Keywords': 'Machine Learning, ICML', '/ModDate': 'D:20200914001802Z', '/PTEX.Fullbanner': 'This is pdfTeX, Version 3.14159265-2.6-1.40.17 (TeX Live 2016) kpathsea version 6.2.2', '/Producer': 'pdfTeX-1.40.17', '/Subject': 'Proceedings of the International Conference on Machine Learning 2019', '/Title': 'EfficientNet: Rethinking Model Scaling for Convolutional Neural Networks', '/Trapped': '/False'}, source_id = f5973cb0-5023-463f-8f4a-e39c32760227),\n",
       " Document(id = 69ff89d5-6625-4842-b047-056ab0f12c81, name = EfﬁcientNet: Rethinking Model Scaling for Convolutional Neural Networks, metadata = {'page': 4, '/Author': 'Mingxing Tan, Quoc V. Le', '/CreationDate': 'D:20200914001802Z', '/Creator': 'LaTeX with hyperref package', '/Keywords': 'Machine Learning, ICML', '/ModDate': 'D:20200914001802Z', '/PTEX.Fullbanner': 'This is pdfTeX, Version 3.14159265-2.6-1.40.17 (TeX Live 2016) kpathsea version 6.2.2', '/Producer': 'pdfTeX-1.40.17', '/Subject': 'Proceedings of the International Conference on Machine Learning 2019', '/Title': 'EfficientNet: Rethinking Model Scaling for Convolutional Neural Networks', '/Trapped': '/False'}, source_id = f5973cb0-5023-463f-8f4a-e39c32760227),\n",
       " Document(id = 34470fb6-c02c-4ff2-9a3a-d838afe72c62, name = EfﬁcientNet: Rethinking Model Scaling for Convolutional Neural Networks, metadata = {'page': 5, '/Author': 'Mingxing Tan, Quoc V. Le', '/CreationDate': 'D:20200914001802Z', '/Creator': 'LaTeX with hyperref package', '/Keywords': 'Machine Learning, ICML', '/ModDate': 'D:20200914001802Z', '/PTEX.Fullbanner': 'This is pdfTeX, Version 3.14159265-2.6-1.40.17 (TeX Live 2016) kpathsea version 6.2.2', '/Producer': 'pdfTeX-1.40.17', '/Subject': 'Proceedings of the International Conference on Machine Learning 2019', '/Title': 'EfficientNet: Rethinking Model Scaling for Convolutional Neural Networks', '/Trapped': '/False'}, source_id = f5973cb0-5023-463f-8f4a-e39c32760227),\n",
       " Document(id = ff458f06-4c5e-4cc5-8030-f23556a3660a, name = EfﬁcientNet: Rethinking Model Scaling for Convolutional Neural Networks, metadata = {'page': 6, '/Author': 'Mingxing Tan, Quoc V. Le', '/CreationDate': 'D:20200914001802Z', '/Creator': 'LaTeX with hyperref package', '/Keywords': 'Machine Learning, ICML', '/ModDate': 'D:20200914001802Z', '/PTEX.Fullbanner': 'This is pdfTeX, Version 3.14159265-2.6-1.40.17 (TeX Live 2016) kpathsea version 6.2.2', '/Producer': 'pdfTeX-1.40.17', '/Subject': 'Proceedings of the International Conference on Machine Learning 2019', '/Title': 'EfficientNet: Rethinking Model Scaling for Convolutional Neural Networks', '/Trapped': '/False'}, source_id = f5973cb0-5023-463f-8f4a-e39c32760227),\n",
       " Document(id = 73b95507-6c16-4e74-b7d4-bd2447e80cbe, name = EfﬁcientNet: Rethinking Model Scaling for Convolutional Neural Networks, metadata = {'page': 7, '/Author': 'Mingxing Tan, Quoc V. Le', '/CreationDate': 'D:20200914001802Z', '/Creator': 'LaTeX with hyperref package', '/Keywords': 'Machine Learning, ICML', '/ModDate': 'D:20200914001802Z', '/PTEX.Fullbanner': 'This is pdfTeX, Version 3.14159265-2.6-1.40.17 (TeX Live 2016) kpathsea version 6.2.2', '/Producer': 'pdfTeX-1.40.17', '/Subject': 'Proceedings of the International Conference on Machine Learning 2019', '/Title': 'EfficientNet: Rethinking Model Scaling for Convolutional Neural Networks', '/Trapped': '/False'}, source_id = f5973cb0-5023-463f-8f4a-e39c32760227),\n",
       " Document(id = 68ed42c9-eae4-414b-9cd7-38d24c231592, name = EfﬁcientNet: Rethinking Model Scaling for Convolutional Neural Networks, metadata = {'page': 8, '/Author': 'Mingxing Tan, Quoc V. Le', '/CreationDate': 'D:20200914001802Z', '/Creator': 'LaTeX with hyperref package', '/Keywords': 'Machine Learning, ICML', '/ModDate': 'D:20200914001802Z', '/PTEX.Fullbanner': 'This is pdfTeX, Version 3.14159265-2.6-1.40.17 (TeX Live 2016) kpathsea version 6.2.2', '/Producer': 'pdfTeX-1.40.17', '/Subject': 'Proceedings of the International Conference on Machine Learning 2019', '/Title': 'EfficientNet: Rethinking Model Scaling for Convolutional Neural Networks', '/Trapped': '/False'}, source_id = f5973cb0-5023-463f-8f4a-e39c32760227),\n",
       " Document(id = 64d5b2c1-593d-4c27-97e1-7151c9390586, name = EfﬁcientNet: Rethinking Model Scaling for Convolutional Neural Networks, metadata = {'page': 9, '/Author': 'Mingxing Tan, Quoc V. Le', '/CreationDate': 'D:20200914001802Z', '/Creator': 'LaTeX with hyperref package', '/Keywords': 'Machine Learning, ICML', '/ModDate': 'D:20200914001802Z', '/PTEX.Fullbanner': 'This is pdfTeX, Version 3.14159265-2.6-1.40.17 (TeX Live 2016) kpathsea version 6.2.2', '/Producer': 'pdfTeX-1.40.17', '/Subject': 'Proceedings of the International Conference on Machine Learning 2019', '/Title': 'EfficientNet: Rethinking Model Scaling for Convolutional Neural Networks', '/Trapped': '/False'}, source_id = f5973cb0-5023-463f-8f4a-e39c32760227),\n",
       " Document(id = 972f9030-8004-4491-aa43-564aa6a5027c, name = EfﬁcientNet: Rethinking Model Scaling for Convolutional Neural Networks, metadata = {'page': 10, '/Author': 'Mingxing Tan, Quoc V. Le', '/CreationDate': 'D:20200914001802Z', '/Creator': 'LaTeX with hyperref package', '/Keywords': 'Machine Learning, ICML', '/ModDate': 'D:20200914001802Z', '/PTEX.Fullbanner': 'This is pdfTeX, Version 3.14159265-2.6-1.40.17 (TeX Live 2016) kpathsea version 6.2.2', '/Producer': 'pdfTeX-1.40.17', '/Subject': 'Proceedings of the International Conference on Machine Learning 2019', '/Title': 'EfficientNet: Rethinking Model Scaling for Convolutional Neural Networks', '/Trapped': '/False'}, source_id = f5973cb0-5023-463f-8f4a-e39c32760227),\n",
       " Document(id = e78aac25-512a-4e96-baf3-d9d61d047413, name = EfﬁcientNet: Rethinking Model Scaling for Convolutional Neural Networks, metadata = {'page': 11, '/Author': 'Mingxing Tan, Quoc V. Le', '/CreationDate': 'D:20200914001802Z', '/Creator': 'LaTeX with hyperref package', '/Keywords': 'Machine Learning, ICML', '/ModDate': 'D:20200914001802Z', '/PTEX.Fullbanner': 'This is pdfTeX, Version 3.14159265-2.6-1.40.17 (TeX Live 2016) kpathsea version 6.2.2', '/Producer': 'pdfTeX-1.40.17', '/Subject': 'Proceedings of the International Conference on Machine Learning 2019', '/Title': 'EfficientNet: Rethinking Model Scaling for Convolutional Neural Networks', '/Trapped': '/False'}, source_id = f5973cb0-5023-463f-8f4a-e39c32760227)]"
      ]
     },
     "execution_count": null,
     "metadata": {},
     "output_type": "execute_result"
    }
   ],
   "source": [
    "#| hide\n",
    "#| eval: false\n",
    "documents_2 = loader.get_documents()\n",
    "store.add(documents_2)\n",
    "source_id = documents_2[0].source_id\n",
    "document = store.group_by_source_id(source_id)\n",
    "document"
   ]
  }
 ],
 "metadata": {
  "kernelspec": {
   "display_name": "python3",
   "language": "python",
   "name": "python3"
  }
 },
 "nbformat": 4,
 "nbformat_minor": 5
}
