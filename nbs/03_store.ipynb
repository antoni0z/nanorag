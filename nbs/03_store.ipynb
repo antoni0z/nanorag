{
 "cells": [
  {
   "cell_type": "markdown",
   "id": "6102c907-3669-4272-9629-9bd172bf08eb",
   "metadata": {},
   "source": [
    "# Store\n",
    "\n",
    "> Provides storage for documents"
   ]
  },
  {
   "cell_type": "code",
   "execution_count": null,
   "id": "97efea1c-7f06-4dce-97db-4861dbae1c20",
   "metadata": {},
   "outputs": [],
   "source": [
    "#| default_exp store"
   ]
  },
  {
   "cell_type": "code",
   "execution_count": null,
   "id": "6bdcc0a7-d360-41d3-8687-3312cd1c2638",
   "metadata": {},
   "outputs": [],
   "source": [
    "#| export\n",
    "from nanorag.base import Document, abstractmethod, ABC\n",
    "from nanorag.context import ModelContext\n",
    "from nanorag.loaders import PDFLoader\n",
    "from typing import Union, List, Dict, Optional\n",
    "from uuid import UUID\n",
    "from collections import defaultdict"
   ]
  },
  {
   "cell_type": "code",
   "execution_count": null,
   "id": "237fdf61-9e4c-49f9-aeae-4ba3d78ea0a1",
   "metadata": {},
   "outputs": [],
   "source": [
    "#| export\n",
    "class BaseDocumentStore(ABC):\n",
    "    \"\"\"\n",
    "    Base class for document storage\"\"\"\n",
    "    def __init__(self, documents : Dict[str, Document] = {}):\n",
    "        pass\n",
    "    @abstractmethod\n",
    "    def __call__(self, db): #Connect to backend and specific collection parameters\n",
    "        pass\n",
    "    @abstractmethod    \n",
    "    def add(self, document: Document):\n",
    "        pass\n",
    "    @abstractmethod \n",
    "    def ids(self):\n",
    "        pass\n",
    "    @abstractmethod    \n",
    "    def delete(self, ids: Union[List, str]):\n",
    "        pass\n",
    "    @abstractmethod\n",
    "    def get(self, ids: Union[UUID, List]):\n",
    "        pass\n",
    "        "
   ]
  },
  {
   "cell_type": "code",
   "execution_count": null,
   "id": "e17538f0-ad16-43fc-9686-55824ce404a8",
   "metadata": {},
   "outputs": [],
   "source": [
    "#| export\n",
    "class DocumentStore(BaseDocumentStore):\n",
    "    \"\"\"Key value type document store that store documents by their id in a dictionary.\n",
    "    Also checks for duplicates via hashing and doesn't admit them. Compatible with both nodes and documents.\"\"\"\n",
    "    def __init__(self, documents : Union[List[Document], Document]= []):\n",
    "        if isinstance(documents, list):\n",
    "            self.documents = {document.id: document for document in documents}\n",
    "        elif isinstance(documents, Document):\n",
    "            self.documents = {documents.id: documents}\n",
    "\n",
    "    def __call__(self, db): #Connect to backend and specific collection parameters\n",
    "        pass\n",
    "        \n",
    "    def add(self, document: Union[List[Document], Document]) -> str:\n",
    "        doc_ids = []\n",
    "        if isinstance(document, list):\n",
    "            for doc in document:\n",
    "                self.add(doc)\n",
    "                doc_ids.append(doc.id)\n",
    "        else:\n",
    "            for stored_document in self.documents:\n",
    "                if self.documents[stored_document].hash == document.hash:\n",
    "                    return f\"You tried to add a duplicate document: {document.hash}\"\n",
    "                elif self.documents[stored_document].id == document.id:\n",
    "                    self.documents[document.id] = document\n",
    "                    return f\"Document with id {document.id} has been updated\"\n",
    "            self.documents[document.id] =  document\n",
    "        return f\"The following documents have been added: {doc_ids}\"\n",
    "\n",
    "    def ids(self):\n",
    "        doc_ids = [doc for doc in self.documents]\n",
    "        return doc_ids\n",
    "\n",
    "    def delete(self, ids: Union[List, str]):\n",
    "        deleted_docs = []\n",
    "        if isinstance(ids, List):\n",
    "            for id in ids:\n",
    "                deleted_doc = self.documents.pop(id, None)\n",
    "                if deleted_doc != None:\n",
    "                    deleted_docs.append(deleted_doc)\n",
    "        elif isinstance(ids, UUID):\n",
    "            deleted_doc = self.documents.pop(ids, None)\n",
    "            print(f'Ids are: {ids} and theoretically deleted doc is {deleted_doc}')\n",
    "            if deleted_doc != None:\n",
    "                deleted_docs.append(deleted_doc)\n",
    "        return f\"The following docs have been deleted {deleted_docs}\"\n",
    "        \n",
    "    def get(self, ids: Optional[Union[List[UUID], UUID]] = None) -> Optional[Union[Document, List[Document]]]:\n",
    "        if ids == None:\n",
    "            ids = self.ids()\n",
    "            if isinstance(ids, List):\n",
    "                if len(ids) == 0:\n",
    "                    return None\n",
    "        if isinstance(ids, List):\n",
    "            docs = [self.documents[id] for id in ids if id in self.documents]\n",
    "            if len(docs) == 0:\n",
    "                return None\n",
    "            return docs\n",
    "        elif isinstance(ids, UUID):\n",
    "            doc = self.documents.get(ids, None)\n",
    "            if doc is None:\n",
    "                return None\n",
    "            return doc\n",
    "        return None\n",
    "    def group_by_source_id(self, source_id = None): #Other type of filters can be added\n",
    "        grouped_documents = defaultdict(list)\n",
    "        for doc in self.documents.values():\n",
    "            if source_id == None:\n",
    "                grouped_documents[doc.source_id].append(doc)\n",
    "            elif doc.source_id not in grouped_documents or doc.source_id == source_id:\n",
    "                grouped_documents[doc.source_id].append(doc)\n",
    "        if source_id != None:\n",
    "            return grouped_documents[source_id]\n",
    "        return dict(grouped_documents)\n",
    "#NOTE: Could I store both nodes and docs in same store? "
   ]
  },
  {
   "cell_type": "code",
   "execution_count": null,
   "id": "2f579136",
   "metadata": {},
   "outputs": [],
   "source": [
    "class PostgresDocumentStore(BaseDocumentStore):\n",
    "    pass"
   ]
  },
  {
   "cell_type": "code",
   "execution_count": null,
   "id": "30a3ed18-b244-4d1f-a6a0-a24a03c01521",
   "metadata": {},
   "outputs": [],
   "source": [
    "#| hide\n",
    "import nbdev; nbdev.nbdev_export()"
   ]
  },
  {
   "cell_type": "markdown",
   "id": "af49de6d",
   "metadata": {},
   "source": [
    "Example insert into DocStore"
   ]
  },
  {
   "cell_type": "code",
   "execution_count": null,
   "id": "ebffaddb",
   "metadata": {},
   "outputs": [],
   "source": [
    "#| hide\n",
    "#| eval: false\n",
    "loader = PDFLoader('datasets/papers_pdf')\n",
    "documents = loader.get_documents()\n",
    "store = DocumentStore(documents)"
   ]
  },
  {
   "cell_type": "code",
   "execution_count": null,
   "id": "153b5e85",
   "metadata": {},
   "outputs": [
    {
     "data": {
      "text/plain": [
       "\"The following documents have been added: [UUID('1e31d61a-5232-4b59-90dc-d246fd050a00'), UUID('f83ecaa5-8940-4045-8d80-2e43e3561c32'), UUID('4990eebe-04e5-4038-980e-1a85bf7596ff'), UUID('c0fcb466-6a3d-4744-a76a-df0f1cc9c7db'), UUID('b890edd9-1970-4eb1-b5f9-57bac73727e3'), UUID('dbfa29dd-e849-4a27-b887-866211886329'), UUID('b9a9ad05-0724-45f7-bce9-9ed161563bee'), UUID('dc04e910-e573-41ac-bbdc-d9118d49c25c'), UUID('482d5a74-2989-4acc-8dc7-f6e69f49975b'), UUID('3607bfdd-897e-41d1-a61d-62645ba477b9'), UUID('57473132-e5ab-4549-a61d-79614da8272d'), UUID('f853176c-94ce-447e-99d1-1230fc0d10c1'), UUID('52efbad6-1365-45fa-b9ea-d349d8b76be8'), UUID('79d30bf1-a124-42b5-834a-8f8c69d4a228'), UUID('c7c47eea-6e8f-402c-a323-3f62a7662a9a'), UUID('7a4b11a7-c8f6-4e92-9523-d7eebe4a4f71'), UUID('7e368dc9-8a09-4a47-adf5-e3586d2cc5b6'), UUID('786eb7db-37c9-4892-8093-99fe61a7c396'), UUID('b34707b6-8137-4f2b-bb0a-f8d2ddbb5d76'), UUID('3719f574-74c9-4568-a9ba-5c3657dc5b90'), UUID('6f08bd39-ebd9-449d-934d-87d6aa53b9d3'), UUID('a5290972-89bf-4e02-826e-09ca30eeddd7'), UUID('5e58bf18-df44-4efc-8f45-768fced06d60'), UUID('98bfdea8-4d6e-492e-8880-371e0bcf5318'), UUID('c5cf863b-b274-4548-9bef-57875747f98f'), UUID('b2cbb1d4-eb2a-4989-a561-e4057030b9f4'), UUID('78331008-6433-49f1-92c2-a2f60a77427a'), UUID('a753a0e6-072d-4a77-bc0a-c99f41368972'), UUID('6716d9d4-414b-45d8-a099-75c534ba02ba'), UUID('c9ce1338-9c66-4ed6-a764-d3e38a095ae9'), UUID('4fcc3d6f-bb18-4474-bd9d-4691a3b614b2'), UUID('12b7ebf4-943f-4127-a5cb-b25e0f2c5bdd'), UUID('9f4dd855-91c9-4273-9242-9544ee449cb2'), UUID('807e9fba-4deb-4876-a08f-256f5b9e6296'), UUID('0e9fbc2a-1cac-4f44-bbfe-9fa5b1532899'), UUID('746e3458-fa1b-45a8-bc65-675070039937'), UUID('f1baac55-6be7-446a-99aa-fda448ca2861'), UUID('54916571-ceba-4ba2-8c89-41159aa92247'), UUID('9ac4c967-40c2-40ee-8bfb-53cb466cacbf'), UUID('d58b02c6-9fda-4fa2-8e32-e45debff288f'), UUID('a4e32a4c-0d69-42c2-814e-e898fe06d3b8'), UUID('948c989d-6cdb-4008-a5f0-b1674f8f6150'), UUID('1d12f73a-5269-48eb-b607-9e26b658e178'), UUID('d4488789-a366-4e8a-80f0-08020ed45339'), UUID('ae5362de-d34c-4b7f-b43d-524d20e06fec'), UUID('a4730a22-3c24-4e72-afe5-4af55978dd8e')]\""
      ]
     },
     "execution_count": null,
     "metadata": {},
     "output_type": "execute_result"
    }
   ],
   "source": [
    "#| hide\n",
    "#| eval: false\n",
    "documents_2 = loader.get_documents()\n",
    "store.add(documents_2)"
   ]
  },
  {
   "cell_type": "code",
   "execution_count": null,
   "id": "0de59013",
   "metadata": {},
   "outputs": [],
   "source": [
    "#| hide\n",
    "#| eval: false\n",
    "document = store.group_by_source_id('6c3a0db6-631d-4dd4-8d12-f04382f633c5')"
   ]
  },
  {
   "cell_type": "code",
   "execution_count": null,
   "id": "4abfaff5",
   "metadata": {},
   "outputs": [],
   "source": [
    "#| hide\n",
    "#| eval: false\n",
    "documents = store.get()\n",
    "#Method in the docstore to group by source id for example. \n",
    "#Add source id to nodes as optional too. Lets have more complex docs. "
   ]
  }
 ],
 "metadata": {
  "kernelspec": {
   "display_name": "python3",
   "language": "python",
   "name": "python3"
  }
 },
 "nbformat": 4,
 "nbformat_minor": 5
}
