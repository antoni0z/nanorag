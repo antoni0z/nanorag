{
 "cells": [
  {
   "cell_type": "code",
   "execution_count": null,
   "metadata": {},
   "outputs": [],
   "source": [
    "#| default_exp indexing"
   ]
  },
  {
   "cell_type": "code",
   "execution_count": null,
   "metadata": {},
   "outputs": [],
   "source": [
    "#| export\n",
    "from nanorag.base import *\n",
    "from nanorag.store import *\n",
    "from nanorag.context import *\n",
    "from nanorag.llm import *\n",
    "from nanorag.loaders import *\n",
    "from typing import Union, List, Dict, Tuple, Optional, Any\n",
    "import numpy as np"
   ]
  },
  {
   "cell_type": "code",
   "execution_count": null,
   "metadata": {},
   "outputs": [
    {
     "data": {
      "application/vnd.jupyter.widget-view+json": {
       "model_id": "b4f297e0afaa4a18a7fd26bec8e47d54",
       "version_major": 2,
       "version_minor": 0
      },
      "text/plain": [
       "Loading checkpoint shards:   0%|          | 0/3 [00:00<?, ?it/s]"
      ]
     },
     "metadata": {},
     "output_type": "display_data"
    }
   ],
   "source": [
    "#| export\n",
    "#| eval: false\n",
    "context = ModelContext()\n",
    "context.set_default()\n",
    "store = DocumentStore()"
   ]
  },
  {
   "cell_type": "markdown",
   "metadata": {},
   "source": [
    "For testing I would start exploring by having a document I want to be able to retrieve information from."
   ]
  },
  {
   "cell_type": "markdown",
   "metadata": {},
   "source": [
    "My naive implementation would be an index for the embedding and mapping with the node index. Lets try that."
   ]
  },
  {
   "cell_type": "code",
   "execution_count": 109,
   "metadata": {},
   "outputs": [
    {
     "data": {
      "text/plain": [
       "[Document(id = ade3b74e-033d-4ec3-85d4-a366607cdd4d, name = 1  , metadata = {'category': 'PDF', '/Author': 'Shesh', '/Creator': 'Microsoft® Word LTSC', '/CreationDate': \"D:20220404224045-04'00'\", '/ModDate': \"D:20220404224045-04'00'\", '/Producer': 'Microsoft® Word LTSC', 'pages': 11}, source_id = ccc614bc-cb09-47fb-a89c-cf8e5f5ef501),\n",
       " Document(id = 5b82252e-a44a-4221-9d43-360ca58acc67, name = Mindful Explanations: Prevalence and Impact of Mind, metadata = {'category': 'PDF', '/CreationDate': 'D:20231220024706Z', '/Creator': 'LaTeX with acmart 2022/10/24 v1.88 Typesetting articles for the Association for Computing Machinery and hyperref 2023-04-22 v7.00x Hypertext links for LaTeX', '/ModDate': 'D:20231220024706Z', '/PTEX.Fullbanner': 'This is pdfTeX, Version 3.141592653-2.6-1.40.25 (TeX Live 2023) kpathsea version 6.3.5', '/Producer': 'pdfTeX, Version 3.141592653-2.6-1.40.25 (TeX Live 2023) kpathsea version 6.3.5', '/Subject': '-  Human-centered computing  ->  HCI theory, concepts and models.Collaborative and social computing theory, concepts and paradigms.-  Computing methodologies  ->  Theory of mind.', '/Title': 'Mindful Explanations: Prevalence and Impact of Mind Attribution in XAI Research', '/Trapped': '/False', 'pages': 42}, source_id = c611ab24-0f5c-4555-8ea0-75022ae46d69),\n",
       " Document(id = 5873b6ab-cd26-4aa9-ba0a-ac414439c05e, name = Focal Loss for Dense Object Detection, metadata = {'category': 'PDF', '/Author': '', '/CreationDate': 'D:20180208011435Z', '/Creator': 'LaTeX with hyperref package', '/Keywords': '', '/ModDate': 'D:20180208011435Z', '/PTEX.Fullbanner': 'This is pdfTeX, Version 3.14159265-2.6-1.40.17 (TeX Live 2016) kpathsea version 6.2.2', '/Producer': 'pdfTeX-1.40.17', '/Subject': '', '/Title': '', '/Trapped': '/False', 'pages': 10}, source_id = 2c7c1e55-0d9c-4dce-a3c5-16847757f7bc),\n",
       " Document(id = f1b1973d-6639-4c9d-a559-abbfcb33ca97, name = Learning Domain-Independent Heuristics for Grounded and Lifted Planning, metadata = {'category': 'PDF', '/CreationDate': 'D:20231221014615Z', '/Creator': 'TeX', '/ModDate': 'D:20231221014615Z', '/PTEX.Fullbanner': 'This is pdfTeX, Version 3.141592653-2.6-1.40.25 (TeX Live 2023) kpathsea version 6.3.5', '/Producer': 'pdfTeX-1.40.25', '/TemplateVersion': '2024.1', '/Trapped': '/False', 'pages': 12}, source_id = cc247754-eefa-4b73-ad7c-5de86dac34bf),\n",
       " Document(id = 1330067f-05f3-4e44-8426-255874649e00, name = Open Domain Knowledge Extraction for, metadata = {'category': 'PDF', '/Author': '', '/CreationDate': 'D:20231218015638Z', '/Creator': 'LaTeX with hyperref', '/Keywords': '', '/ModDate': 'D:20231218015638Z', '/PTEX.Fullbanner': 'This is pdfTeX, Version 3.141592653-2.6-1.40.25 (TeX Live 2023) kpathsea version 6.3.5', '/Producer': 'pdfTeX-1.40.25', '/Subject': '', '/Title': '', '/Trapped': '/False', 'pages': 7}, source_id = 038e9ce4-94d2-4e69-afca-cb01cfe50e48),\n",
       " Document(id = b7664eb3-0d43-4cb6-a51f-f0024ff1613b, name = Published as a conference paper at ICLR 2019, metadata = {'category': 'PDF', '/Author': '', '/CreationDate': 'D:20190424004203Z', '/Creator': 'LaTeX with hyperref package', '/Keywords': '', '/ModDate': 'D:20190424004203Z', '/PTEX.Fullbanner': 'This is pdfTeX, Version 3.14159265-2.6-1.40.17 (TeX Live 2016) kpathsea version 6.2.2', '/Producer': 'pdfTeX-1.40.17', '/Subject': '', '/Title': '', '/Trapped': '/False', 'pages': 13}, source_id = 140044c1-48bb-453f-bce7-b789f37e48ad),\n",
       " Document(id = 3dcecfa8-1da2-476a-96e9-ccbf2da8eb04, name = Fluctuation-based Adaptive Structured Pruning for Large Language Models, metadata = {'category': 'PDF', '/CreationDate': 'D:20231220023041Z', '/Creator': 'TeX', '/ModDate': 'D:20231220023041Z', '/PTEX.Fullbanner': 'This is pdfTeX, Version 3.141592653-2.6-1.40.25 (TeX Live 2023) kpathsea version 6.3.5', '/Producer': 'pdfTeX-1.40.25', '/TemplateVersion': '2024.1', '/Trapped': '/False', 'pages': 14}, source_id = 7ccce41e-fc19-41fc-a590-5dc7da91da6f),\n",
       " Document(id = 5fad0b7b-7665-4ac7-b9c8-2867d3a82fe7, name = Mutual Teaching for Graph Convolutional Networks, metadata = {'category': 'PDF', '/Author': '', '/CreationDate': 'D:20200903003608Z', '/Creator': 'LaTeX with hyperref package', '/Keywords': '', '/ModDate': 'D:20200903003608Z', '/PTEX.Fullbanner': 'This is pdfTeX, Version 3.14159265-2.6-1.40.17 (TeX Live 2016) kpathsea version 6.2.2', '/Producer': 'pdfTeX-1.40.17', '/Subject': '', '/Title': '', '/Trapped': '/False', 'pages': 8}, source_id = 7b235cf9-854f-40ec-86e7-ae87eedac3ad),\n",
       " Document(id = 4d2a5169-4b10-4033-80b5-57741df5d0bc, name = SimCSE: Simple Contrastive Learning of Sentence Embeddings, metadata = {'category': 'PDF', '/Author': '', '/CreationDate': 'D:20220519001722Z', '/Creator': 'LaTeX with hyperref', '/Keywords': '', '/ModDate': 'D:20220519001722Z', '/PTEX.Fullbanner': 'This is pdfTeX, Version 3.14159265-2.6-1.40.21 (TeX Live 2020) kpathsea version 6.3.2', '/Producer': 'pdfTeX-1.40.21', '/Subject': '', '/Title': '', '/Trapped': '/False', 'pages': 17}, source_id = 090bffc6-af8e-43c1-acdd-379c4100e676),\n",
       " Document(id = cc6e09ee-c61f-4738-a35d-5b5cac1141cd, name = A Case Study on Test Case Construction with Large Language, metadata = {'category': 'PDF', '/Author': '', '/CreationDate': 'D:20231221025213Z', '/Creator': 'LaTeX with hyperref', '/Keywords': '', '/ModDate': 'D:20231221025213Z', '/PTEX.Fullbanner': 'This is pdfTeX, Version 3.141592653-2.6-1.40.25 (TeX Live 2023) kpathsea version 6.3.5', '/Producer': 'pdfTeX-1.40.25', '/Subject': '', '/Title': '', '/Trapped': '/False', 'pages': 8}, source_id = 168e4570-7c69-4b1f-850b-7e6929795255),\n",
       " Document(id = 9ec6f7a4-cdab-4b15-881e-aefe60257dac, name = Proceedings of the 2020 Conference on Empirical Methods in Natural Language Processing , pages 6442–6454,, metadata = {'category': 'PDF', '/Author': 'Ikuya Yamada ; Akari Asai ; Hiroyuki Shindo ; Hideaki Takeda ; Yuji Matsumoto', '/CreationDate': 'D:20200928073137Z', '/Creator': 'LaTeX with hyperref', '/Keywords': '', '/ModDate': 'D:20200928073137Z', '/PTEX.Fullbanner': 'This is pdfTeX, Version 3.14159265-2.6-1.40.20 (TeX Live 2019) kpathsea version 6.3.1', '/Producer': 'pdfTeX-1.40.20', '/Subject': 'emnlp 2020', '/Title': 'LUKE: Deep Contextualized Entity Representations with Entity-aware Self-attention', '/Trapped': '/False', 'pages': 13}, source_id = 512d6834-a091-4382-b788-f649d99e1c3d),\n",
       " Document(id = 9b78faa1-1ddc-4e50-bb44-fc09cefec0c0, name = Published as a conference paper at ICLR 2019, metadata = {'category': 'PDF', '/Author': '', '/CreationDate': 'D:20220406013953Z', '/Creator': 'LaTeX with hyperref', '/Keywords': '', '/ModDate': 'D:20220406013953Z', '/PTEX.Fullbanner': 'This is pdfTeX, Version 3.14159265-2.6-1.40.21 (TeX Live 2020) kpathsea version 6.3.2', '/Producer': 'pdfTeX-1.40.21', '/Subject': '', '/Title': '', '/Trapped': '/False', 'pages': 15}, source_id = 7eecfc05-920c-4abd-9cf7-c1be28f1c1ef),\n",
       " Document(id = 9bed0825-4aec-4acb-984a-99f575e1fbdb, name =  , metadata = {'category': 'PDF', '/Title': 'Paper Title (use style: paper title)', '/Author': 'IEEE', '/Creator': 'Microsoft® Word 2016', '/CreationDate': \"D:20231220133622+08'00'\", '/ModDate': \"D:20231220133622+08'00'\", '/Producer': 'Microsoft® Word 2016', 'pages': 4}, source_id = cbaab288-03be-4b2f-be7d-d91426d03df3),\n",
       " Document(id = 1dbd4856-530c-4ba1-88b5-c081c69ffa71, name = DRL, metadata = {'category': 'PDF', '/Author': '', '/CreationDate': 'D:20220928001300Z', '/Creator': 'LaTeX with hyperref', '/Keywords': '', '/ModDate': 'D:20220928001300Z', '/PTEX.Fullbanner': 'This is pdfTeX, Version 3.14159265-2.6-1.40.21 (TeX Live 2020) kpathsea version 6.3.2', '/Producer': 'pdfTeX-1.40.21', '/Subject': '', '/Title': '', '/Trapped': '/False', 'pages': 20}, source_id = 5a94a14d-6f4c-4a24-95ee-404bc5d05431)]"
      ]
     },
     "execution_count": 109,
     "metadata": {},
     "output_type": "execute_result"
    }
   ],
   "source": [
    "store.get()"
   ]
  },
  {
   "cell_type": "code",
   "execution_count": null,
   "metadata": {},
   "outputs": [],
   "source": [
    "class VectorIndex: #Compatible with TextNode right now\n",
    "    def __init__(self, context): #May not be needed in postgres. \n",
    "        self.node_to_idx = {}\n",
    "        self.idx_to_node = {}\n",
    "        self.idx = np.array([], dtype=np.int64)\n",
    "        self.context = context\n",
    "        #This line below accepts huggingface embeddings format. \n",
    "        self.embedding_dim = self.context.embedding[1].word_embedding_dimension\n",
    "        if self.embedding_dim is not None:\n",
    "            self.embeddings = np.empty((0, self.embedding_dim))\n",
    "        else:\n",
    "            self.embeddings = np.array([])\n",
    "\n",
    "    def add(self, nodes: Union[TextNode, List[TextNode]]):\n",
    "        if isinstance(nodes, TextNode):\n",
    "            nodes = [nodes]\n",
    "        elif isinstance(nodes, list):\n",
    "            new_embeddings = np.vstack([node.embedding for node in nodes])\n",
    "            if self.embeddings.size == 0:\n",
    "                self.embeddings = new_embeddings\n",
    "            else:\n",
    "                self.embeddings = np.append(self.embeddings, new_embeddings, axis=0)\n",
    "            node_idx = np.arange(len(self.idx), self.embeddings.shape[0])\n",
    "            for node, idx in zip(nodes, node_idx):\n",
    "                self.node_to_idx[node.id] = idx\n",
    "                self.idx_to_node[idx] = node.id\n",
    "                node.idx = idx\n",
    "            self.idx = np.concatenate((self.idx, node_idx))\n",
    "\n",
    "    def get_embedding(self, ids: Union[List[int], int]):\n",
    "        if isinstance(ids, np.int64) or isinstance(ids, int):\n",
    "            ids = np.array([ids], dtype = np.int64)\n",
    "        if isinstance(ids, list):\n",
    "            ids = np.array(ids)\n",
    "        if isinstance(ids, np.ndarray):\n",
    "            return self.embeddings[ids]\n",
    "\n",
    "#TODO: Integration with the DocumentBridge and Document Object. \n",
    "#TODO: Try querying the Index with some text converted to embeddings."
   ]
  },
  {
   "cell_type": "code",
   "execution_count": null,
   "metadata": {},
   "outputs": [],
   "source": [
    "#| hide\n",
    "#| eval: false\n",
    "index = VectorIndex(context = context)"
   ]
  },
  {
   "cell_type": "code",
   "execution_count": null,
   "metadata": {},
   "outputs": [],
   "source": [
    "#| hide\n",
    "#| eval: false\n",
    "loader = PDFLoader('datasets/papers_pdf', store = store)\n",
    "documents = loader.get_documents()\n",
    "document = DocumentBridge(documents, context = context).to_doc()\n",
    "document.save()\n",
    "nodes = DocumentBridge(document, context = context).to_nodes()\n",
    "index.add(nodes)"
   ]
  },
  {
   "cell_type": "code",
   "execution_count": null,
   "metadata": {},
   "outputs": [
    {
     "data": {
      "text/plain": [
       "(59, 384)"
      ]
     },
     "execution_count": null,
     "metadata": {},
     "output_type": "execute_result"
    }
   ],
   "source": [
    "#| hide\n",
    "#| eval: false\n",
    "nodes_idxs = [node.idx for node in nodes]\n",
    "index.get_embedding(nodes_idxs).shape"
   ]
  },
  {
   "cell_type": "code",
   "execution_count": null,
   "metadata": {},
   "outputs": [
    {
     "data": {
      "text/plain": [
       "(124, 384)"
      ]
     },
     "execution_count": null,
     "metadata": {},
     "output_type": "execute_result"
    }
   ],
   "source": [
    "#| hide\n",
    "#| eval: false\n",
    "index.embeddings.shape"
   ]
  },
  {
   "cell_type": "code",
   "execution_count": null,
   "metadata": {},
   "outputs": [],
   "source": [
    "#| hide\n",
    "#| eval: false\n",
    "loader = PDFLoader('datasets/papers_pdf', store = store)\n",
    "documents = loader.get_documents()\n",
    "document = DocumentBridge(documents, context = context).to_doc()\n",
    "document.save()\n",
    "nodes = DocumentBridge(document, context = context).to_nodes()\n",
    "index.add(nodes)\n"
   ]
  }
 ],
 "metadata": {
  "kernelspec": {
   "display_name": "python3",
   "language": "python",
   "name": "python3"
  }
 },
 "nbformat": 4,
 "nbformat_minor": 2
}
