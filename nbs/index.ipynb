{
 "cells": [
  {
   "cell_type": "markdown",
   "metadata": {},
   "source": [
    "# nanorag\n",
    "\n",
    "> A simple rag framework, right now its work in progress. I will use it to implement some RAG fundamentals and try out different strategies that can lead to better results. "
   ]
  },
  {
   "cell_type": "markdown",
   "metadata": {},
   "source": [
    "## Library Objectives\n",
    "\n",
    "- [ ] Being a lightweight option of RAG, with just the necessary dependencies. \n",
    "- [ ] Focused on RAG with local and open source models, not focused on API calls. \n",
    "- [ ] Try out different strategies and data-structures that can be used to have better results. (Such as dataframes, can try out with polars as its really performant)\n",
    "- [ ] Multimodal support, combine image, text and audio to get the best results\n",
    "- [ ] Solve some of the storage challenges RAG faces, and provide good solutions for updating documents and embeddings as well as loading them.\n",
    "- [ ] Use it as a educational library to demostrate on some of the main concepts llama-index or other RAG framworks use. \n",
    "- [ ] The base for the implementation of some agentic strategies I will try out on other library.\n",
    "- [ ] Offer support for local models with CPU like llama-cpp "
   ]
  },
  {
   "cell_type": "markdown",
   "metadata": {},
   "source": [
    "## Install"
   ]
  },
  {
   "cell_type": "markdown",
   "metadata": {},
   "source": [
    "```sh\n",
    "pip install nanorag\n",
    "```"
   ]
  },
  {
   "cell_type": "markdown",
   "metadata": {},
   "source": [
    "## Learning"
   ]
  },
  {
   "cell_type": "markdown",
   "metadata": {},
   "source": [
    "You can take a look at the notebooks to understand how it works. "
   ]
  }
 ],
 "metadata": {
  "kernelspec": {
   "display_name": "python3",
   "language": "python",
   "name": "python3"
  }
 },
 "nbformat": 4,
 "nbformat_minor": 4
}
