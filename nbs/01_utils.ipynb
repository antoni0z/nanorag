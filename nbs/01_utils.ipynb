{
 "cells": [
  {
   "cell_type": "markdown",
   "id": "2ee7a537-58a5-4ee9-a09e-e1c09cf2c194",
   "metadata": {},
   "source": [
    "# Utils\n",
    "\n",
    "> Utility functions to be used throughout the modules"
   ]
  },
  {
   "cell_type": "code",
   "execution_count": null,
   "id": "82264061-8f00-423a-910a-68a6c33c4826",
   "metadata": {},
   "outputs": [],
   "source": [
    "#| default_exp utils"
   ]
  },
  {
   "cell_type": "code",
   "execution_count": null,
   "id": "1310f121-e67d-4aef-9d40-fba85adae16c",
   "metadata": {},
   "outputs": [],
   "source": [
    "#| export\n",
    "import hashlib"
   ]
  },
  {
   "cell_type": "code",
   "execution_count": null,
   "id": "260cbd0d-8128-4e39-acef-a5552d8f2be5",
   "metadata": {},
   "outputs": [],
   "source": [
    "#| export\n",
    "def hash_input(input_data: str):\n",
    "    hashed_input = hashlib.sha256(input_data.encode()).hexdigest()\n",
    "    return hashed_input\n"
   ]
  },
  {
   "cell_type": "code",
   "execution_count": null,
   "id": "d1b24e28-bed8-4f72-8c2d-fd791a12d5e5",
   "metadata": {},
   "outputs": [],
   "source": [
    "#| hide\n",
    "import nbdev; nbdev.nbdev_export()"
   ]
  },
  {
   "cell_type": "code",
   "execution_count": null,
   "id": "608bf495-c51b-4c9e-baef-07c15ed396ad",
   "metadata": {},
   "outputs": [],
   "source": []
  },
  {
   "cell_type": "code",
   "execution_count": null,
   "id": "564e71aa-5bf7-4123-b31b-3e3ec01e8532",
   "metadata": {},
   "outputs": [],
   "source": []
  }
 ],
 "metadata": {
  "kernelspec": {
   "display_name": "python3",
   "language": "python",
   "name": "python3"
  }
 },
 "nbformat": 4,
 "nbformat_minor": 5
}
