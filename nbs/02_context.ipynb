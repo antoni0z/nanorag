{
 "cells": [
  {
   "cell_type": "markdown",
   "id": "20e32f18-78ed-4fe8-84c4-adaca3bf5bb8",
   "metadata": {},
   "source": [
    "# Model Context\n",
    "\n",
    "> Set of classes that provide context about the models"
   ]
  },
  {
   "cell_type": "code",
   "execution_count": null,
   "id": "8c39d5a4-e164-4b2b-aff7-9a8c3eb37867",
   "metadata": {},
   "outputs": [],
   "source": [
    "#| default_exp context"
   ]
  },
  {
   "cell_type": "code",
   "execution_count": null,
   "id": "152c0f0c-5a3e-462a-82da-b52570e3eabf",
   "metadata": {},
   "outputs": [],
   "source": [
    "#| export\n",
    "class ModelContext:\n",
    "    def __init__(self, llm, embedding, tokenizer):\n",
    "        self.llm = llm\n",
    "        self.embedding = embedding\n",
    "        self.tokenizer = tokenizer\n",
    "        "
   ]
  },
  {
   "cell_type": "code",
   "execution_count": null,
   "id": "49e1e33e-dabf-4475-9d63-fc04b48b7ae9",
   "metadata": {},
   "outputs": [],
   "source": [
    "#| hide\n",
    "import nbdev; nbdev.nbdev_export()"
   ]
  },
  {
   "cell_type": "code",
   "execution_count": null,
   "id": "074e4108-38f8-48e0-945e-7e1e965e5ed5",
   "metadata": {},
   "outputs": [],
   "source": []
  }
 ],
 "metadata": {
  "kernelspec": {
   "display_name": "python3",
   "language": "python",
   "name": "python3"
  }
 },
 "nbformat": 4,
 "nbformat_minor": 5
}
