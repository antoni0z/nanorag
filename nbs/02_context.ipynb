{
 "cells": [
  {
   "cell_type": "markdown",
   "id": "20e32f18-78ed-4fe8-84c4-adaca3bf5bb8",
   "metadata": {},
   "source": [
    "# Model Context\n",
    "\n",
    "> Set of classes that provide context about the models"
   ]
  },
  {
   "cell_type": "code",
   "execution_count": null,
   "id": "8c39d5a4-e164-4b2b-aff7-9a8c3eb37867",
   "metadata": {},
   "outputs": [],
   "source": [
    "#| default_exp context"
   ]
  },
  {
   "cell_type": "code",
   "execution_count": null,
   "id": "6758fd86",
   "metadata": {},
   "outputs": [],
   "source": [
    "#| export\n",
    "from transformers import AutoModelForCausalLM, AutoTokenizer\n",
    "from sentence_transformers import SentenceTransformer\n",
    "import torch\n",
    "from nanorag.llm import LLM"
   ]
  },
  {
   "cell_type": "code",
   "execution_count": null,
   "id": "152c0f0c-5a3e-462a-82da-b52570e3eabf",
   "metadata": {},
   "outputs": [],
   "source": [
    "#| export\n",
    "class ModelContext:\n",
    "    def __init__(self, llm = None, embedding = None, tokenizer = None):\n",
    "        self.llm = llm\n",
    "        self.embedding = embedding\n",
    "        self.tokenizer = tokenizer\n",
    "    def set_default(self):\n",
    "        self.tokenizer = AutoTokenizer.from_pretrained(\"mistralai/Mistral-7B-Instruct-v0.2\", device_map = \"cuda\")\n",
    "        model = AutoModelForCausalLM.from_pretrained(\n",
    "            \"mistralai/Mistral-7B-Instruct-v0.2\",\n",
    "            device_map=\"cuda\",\n",
    "            torch_dtype=torch.bfloat16,\n",
    "        )\n",
    "        self.embedding = SentenceTransformer('sentence-transformers/all-MiniLM-L6-v2')\n",
    "        self.llm = LLM(model = model, tokenizer = self.tokenizer)"
   ]
  },
  {
   "cell_type": "code",
   "execution_count": null,
   "id": "49e1e33e-dabf-4475-9d63-fc04b48b7ae9",
   "metadata": {},
   "outputs": [],
   "source": [
    "#| hide\n",
    "import nbdev; nbdev.nbdev_export()"
   ]
  }
 ],
 "metadata": {
  "kernelspec": {
   "display_name": "python3",
   "language": "python",
   "name": "python3"
  }
 },
 "nbformat": 4,
 "nbformat_minor": 5
}
